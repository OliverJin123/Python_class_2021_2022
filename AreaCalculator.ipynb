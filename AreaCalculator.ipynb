{
 "cells": [
  {
   "cell_type": "code",
   "execution_count": 3,
   "id": "32a172d6",
   "metadata": {},
   "outputs": [],
   "source": [
    "def area():\n",
    "    length=input('What is the length?')\n",
    "    length=int(length)\n",
    "    width=input('What is the width?')\n",
    "    width=int(width)\n",
    "    area=length*width\n",
    "    print('area is',area)"
   ]
  },
  {
   "cell_type": "code",
   "execution_count": 4,
   "id": "76b9195b",
   "metadata": {
    "scrolled": true
   },
   "outputs": [
    {
     "name": "stdout",
     "output_type": "stream",
     "text": [
      "What is the length?3\n",
      "What is the width?3\n",
      "area is 9\n"
     ]
    }
   ],
   "source": [
    "area()"
   ]
  }
 ],
 "metadata": {
  "kernelspec": {
   "display_name": "Python 3",
   "language": "python",
   "name": "python3"
  },
  "language_info": {
   "codemirror_mode": {
    "name": "ipython",
    "version": 3
   },
   "file_extension": ".py",
   "mimetype": "text/x-python",
   "name": "python",
   "nbconvert_exporter": "python",
   "pygments_lexer": "ipython3",
   "version": "3.8.8"
  }
 },
 "nbformat": 4,
 "nbformat_minor": 5
}
