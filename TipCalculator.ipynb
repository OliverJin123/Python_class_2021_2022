{
 "cells": [
  {
   "cell_type": "code",
   "execution_count": 11,
   "id": "fb43c7b9",
   "metadata": {},
   "outputs": [],
   "source": [
    "def tip():\n",
    "    DC=input('How much does the dinner cost?')\n",
    "    DC=int(DC)\n",
    "    tipPercent=input('How much percent of the dinner is the tip?')\n",
    "    tipPercent=int(tipPercent)\n",
    "    tipPercent=tipPercent/100\n",
    "    tipPercent=DC*tipPercent\n",
    "    tip=DC+tipPercent\n",
    "    print('You paid',DC+tipPercent)"
   ]
  },
  {
   "cell_type": "code",
   "execution_count": 12,
   "id": "06df96e2",
   "metadata": {},
   "outputs": [
    {
     "name": "stdout",
     "output_type": "stream",
     "text": [
      "How much does the dinner cost?100\n",
      "How much percent of the dinner is the tip?5\n",
      "You paid 105.0\n"
     ]
    }
   ],
   "source": [
    "tip()"
   ]
  }
 ],
 "metadata": {
  "kernelspec": {
   "display_name": "Python 3",
   "language": "python",
   "name": "python3"
  },
  "language_info": {
   "codemirror_mode": {
    "name": "ipython",
    "version": 3
   },
   "file_extension": ".py",
   "mimetype": "text/x-python",
   "name": "python",
   "nbconvert_exporter": "python",
   "pygments_lexer": "ipython3",
   "version": "3.8.8"
  }
 },
 "nbformat": 4,
 "nbformat_minor": 5
}
